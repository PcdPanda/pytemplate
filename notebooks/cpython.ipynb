{
 "cells": [
  {
   "cell_type": "code",
   "execution_count": null,
   "id": "815494c1",
   "metadata": {},
   "outputs": [],
   "source": [
    "import os, sys, pyximport\n",
    "import numpy as np\n",
    "from pathlib import Path\n",
    "\n",
    "sys.path.insert(0, \"./pytemplate/src/python\")\n",
    "sys.path.insert(0, \"./pytemplate/pcdtrade/python\")"
   ]
  },
  {
   "cell_type": "code",
   "execution_count": null,
   "id": "43949bf3",
   "metadata": {},
   "outputs": [],
   "source": [
    "package_name = \"pytemplate\"\n",
    "package_dir = f\"./src/python\"\n",
    "include_dirs = [\"~/pytemplate/src/cpp/include\", np.get_include()]\n",
    "\n",
    "pyximport.install(\n",
    "    language_level=3,\n",
    "    build_dir=os.path.expanduser(\"~/.pyxbuild\"),\n",
    "    reload_support=True,\n",
    "    setup_args=dict(include_dirs=include_dirs),\n",
    ")"
   ]
  },
  {
   "cell_type": "code",
   "execution_count": null,
   "id": "40a51a9e",
   "metadata": {},
   "outputs": [],
   "source": [
    "for name in [\"cy\"]:\n",
    "    paths = [\n",
    "        f\"~/.pyxbuild/temp.linux-x86_64-cpython-311~/.pyxbuild/temp.linux-x86_64-cpython-311~/pytemplate/src/pytemplate/{name}.o\",\n",
    "        f\"~/.pyxbuild/temp.linux-x86_64-cpython-311~/pytemplate/src/pytemplate/{name}.cpp\",\n",
    "        f\"~/.pyxbuild/lib.linux-x86_64-cpython-311/pytemplate/{name}.cpython-311-x86_64-linux-gnu.so\",\n",
    "    ]\n",
    "    for p in paths:\n",
    "        try:\n",
    "            Path(p).unlink()\n",
    "        except Exception:\n",
    "            print(p)\n",
    "    module_name = f\"pytemplate.{name}\"\n",
    "    if module_name in sys.modules:\n",
    "        del sys.modules[module_name]"
   ]
  },
  {
   "cell_type": "code",
   "execution_count": null,
   "id": "6cfd7d46",
   "metadata": {},
   "outputs": [],
   "source": [
    "from pytemplate.cy import *"
   ]
  },
  {
   "cell_type": "code",
   "execution_count": null,
   "id": "084456c6",
   "metadata": {},
   "outputs": [],
   "source": [
    "reload(pytemplate.cy)\n",
    "from pytemplate.cy import *"
   ]
  },
  {
   "cell_type": "code",
   "execution_count": null,
   "id": "98e922ae",
   "metadata": {},
   "outputs": [],
   "source": [
    "c = CythonClass(1.0)"
   ]
  }
 ],
 "metadata": {
  "kernelspec": {
   "display_name": "quant",
   "language": "python",
   "name": "python3"
  },
  "language_info": {
   "name": "python",
   "version": "3.11.10"
  }
 },
 "nbformat": 4,
 "nbformat_minor": 5
}
